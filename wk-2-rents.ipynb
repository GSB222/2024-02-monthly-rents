{
 "cells": [
  {
   "cell_type": "code",
   "execution_count": 2,
   "id": "b11e1b26",
   "metadata": {},
   "outputs": [
    {
     "data": {
      "text/plain": [
       "25.0"
      ]
     },
     "execution_count": 2,
     "metadata": {},
     "output_type": "execute_result"
    }
   ],
   "source": [
    "# with paranthesis\n",
    "700 / (900 + 1_200 + 700) * 100"
   ]
  },
  {
   "cell_type": "code",
   "execution_count": 21,
   "id": "ad33ced3",
   "metadata": {},
   "outputs": [],
   "source": [
    "# assign value to variable \n",
    "alfred_monthly_23 = 900\n",
    "fatima_monthly_23 = 1_200\n",
    "trina_monthly_23 = 700"
   ]
  },
  {
   "cell_type": "code",
   "execution_count": 22,
   "id": "ff9de0dd",
   "metadata": {},
   "outputs": [],
   "source": [
    "## can also assign like this:\n",
    "alfred_m, fatima_m, trina_m = 900, 1_200, 700"
   ]
  },
  {
   "cell_type": "code",
   "execution_count": 23,
   "id": "a05dbafc",
   "metadata": {},
   "outputs": [
    {
     "data": {
      "text/plain": [
       "1200"
      ]
     },
     "execution_count": 23,
     "metadata": {},
     "output_type": "execute_result"
    }
   ],
   "source": [
    "## Call variables\n",
    "alfred_m\n",
    "fatima_monthly_23\n",
    "# trina_m"
   ]
  },
  {
   "cell_type": "code",
   "execution_count": 24,
   "id": "d5c3e804",
   "metadata": {},
   "outputs": [
    {
     "data": {
      "text/plain": [
       "25.0"
      ]
     },
     "execution_count": 24,
     "metadata": {},
     "output_type": "execute_result"
    }
   ],
   "source": [
    "# calculate trina's share using bariables\n",
    "trina_monthly_23 / (alfred_monthly_23 + fatima_monthly_23 + trina_monthly_23) * 100"
   ]
  },
  {
   "cell_type": "code",
   "execution_count": 27,
   "id": "0dab9778",
   "metadata": {},
   "outputs": [],
   "source": [
    "## place result into in variable\n",
    "trina_share_23 = trina_monthly_23 / (alfred_monthly_23 + fatima_monthly_23) * trina_monthly_23"
   ]
  },
  {
   "cell_type": "code",
   "execution_count": 31,
   "id": "0c876dfb",
   "metadata": {},
   "outputs": [],
   "source": [
    "## easier to read\n",
    "trina_share_23 = \\\n",
    "trina_monthly_23 / (alfred_monthly_23 +\\\n",
    "                   fatima_monthly_23 +\\\n",
    "                   trina_monthly_23) * 100"
   ]
  },
  {
   "cell_type": "code",
   "execution_count": null,
   "id": "f2da4007",
   "metadata": {},
   "outputs": [],
   "source": [
    "## call it\n",
    "trina_share_23, alfred_monthly_23, fatima_monthly_23"
   ]
  }
 ],
 "metadata": {
  "kernelspec": {
   "display_name": "Python 3 (ipykernel)",
   "language": "python",
   "name": "python3"
  },
  "language_info": {
   "codemirror_mode": {
    "name": "ipython",
    "version": 3
   },
   "file_extension": ".py",
   "mimetype": "text/x-python",
   "name": "python",
   "nbconvert_exporter": "python",
   "pygments_lexer": "ipython3",
   "version": "3.11.5"
  }
 },
 "nbformat": 4,
 "nbformat_minor": 5
}
